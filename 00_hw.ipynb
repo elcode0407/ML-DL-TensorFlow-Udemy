{
  "nbformat": 4,
  "nbformat_minor": 0,
  "metadata": {
    "colab": {
      "provenance": []
    },
    "kernelspec": {
      "name": "python3",
      "display_name": "Python 3"
    },
    "language_info": {
      "name": "python"
    }
  },
  "cells": [
    {
      "cell_type": "code",
      "execution_count": null,
      "metadata": {
        "colab": {
          "base_uri": "https://localhost:8080/"
        },
        "id": "7yGoQMe45TAl",
        "outputId": "c75aa66f-b953-4cef-f334-f99b4130ef72"
      },
      "outputs": [
        {
          "output_type": "execute_result",
          "data": {
            "text/plain": [
              "(<tf.Tensor: shape=(5, 300), dtype=float32, numpy=\n",
              " array([[0.8465384 , 0.5590538 , 0.7887471 , ..., 0.7462652 , 0.29600954,\n",
              "         0.38576996],\n",
              "        [0.71294534, 0.24151897, 0.27458942, ..., 0.6771095 , 0.388327  ,\n",
              "         0.8589457 ],\n",
              "        [0.9819313 , 0.84782183, 0.7302617 , ..., 0.55859375, 0.7088338 ,\n",
              "         0.51334167],\n",
              "        [0.35281897, 0.1451881 , 0.9660269 , ..., 0.6835108 , 0.02523851,\n",
              "         0.987568  ],\n",
              "        [0.39772558, 0.93134475, 0.6150187 , ..., 0.7796496 , 0.06061661,\n",
              "         0.27029777]], dtype=float32)>,\n",
              " <tf.Tensor: shape=(5, 300), dtype=float32, numpy=\n",
              " array([[0.03561115, 0.12313855, 0.467471  , ..., 0.783944  , 0.15804279,\n",
              "         0.76676226],\n",
              "        [0.5365926 , 0.59959185, 0.7654253 , ..., 0.43441057, 0.8823999 ,\n",
              "         0.53866255],\n",
              "        [0.3986169 , 0.16396976, 0.33003867, ..., 0.8042897 , 0.96723187,\n",
              "         0.81538785],\n",
              "        [0.8932979 , 0.2633536 , 0.1320219 , ..., 0.08339691, 0.70732   ,\n",
              "         0.46359253],\n",
              "        [0.72188973, 0.03264952, 0.2928859 , ..., 0.04654086, 0.9405918 ,\n",
              "         0.17426312]], dtype=float32)>)"
            ]
          },
          "metadata": {},
          "execution_count": 4
        }
      ],
      "source": [
        "import tensorflow as tf\n",
        "\n",
        "t1 = tf.constant(tf.random.uniform(shape=[1500]),shape=[5,300])\n",
        "t2 = tf.constant(tf.random.uniform(shape=[1500]),shape=[5,300])\n",
        "t1,t2"
      ]
    },
    {
      "cell_type": "code",
      "source": [
        "tf.matmul(t1,tf.transpose(t2))"
      ],
      "metadata": {
        "colab": {
          "base_uri": "https://localhost:8080/"
        },
        "id": "NUYcfwkf7EPZ",
        "outputId": "db9d182b-800b-4adc-acad-46c38b979db4"
      },
      "execution_count": null,
      "outputs": [
        {
          "output_type": "execute_result",
          "data": {
            "text/plain": [
              "<tf.Tensor: shape=(5, 5), dtype=float32, numpy=\n",
              "array([[77.91239 , 75.73995 , 82.79645 , 78.57922 , 74.45244 ],\n",
              "       [78.25995 , 73.6599  , 76.7549  , 72.91824 , 73.251434],\n",
              "       [75.182816, 72.13531 , 73.20915 , 72.836006, 69.85535 ],\n",
              "       [68.28856 , 66.07887 , 68.70693 , 63.151997, 61.80924 ],\n",
              "       [75.864685, 73.748474, 76.225174, 71.66507 , 70.35848 ]],\n",
              "      dtype=float32)>"
            ]
          },
          "metadata": {},
          "execution_count": 7
        }
      ]
    },
    {
      "cell_type": "code",
      "source": [
        "tf.tensordot(t1,tf.transpose(t2),axes=1)"
      ],
      "metadata": {
        "colab": {
          "base_uri": "https://localhost:8080/"
        },
        "id": "WDBp_0nf8hab",
        "outputId": "85143fb5-dac8-4c00-bdbc-1825caaeb145"
      },
      "execution_count": null,
      "outputs": [
        {
          "output_type": "execute_result",
          "data": {
            "text/plain": [
              "<tf.Tensor: shape=(5, 5), dtype=float32, numpy=\n",
              "array([[77.91239 , 75.73995 , 82.79645 , 78.57922 , 74.45244 ],\n",
              "       [78.25995 , 73.6599  , 76.7549  , 72.91824 , 73.251434],\n",
              "       [75.182816, 72.13531 , 73.20915 , 72.836006, 69.85535 ],\n",
              "       [68.28856 , 66.07887 , 68.70693 , 63.151997, 61.80924 ],\n",
              "       [75.864685, 73.748474, 76.225174, 71.66507 , 70.35848 ]],\n",
              "      dtype=float32)>"
            ]
          },
          "metadata": {},
          "execution_count": 9
        }
      ]
    },
    {
      "cell_type": "code",
      "source": [
        "t3 = tf.constant(tf.random.uniform(shape=[150528]),shape=[224, 224, 3])\n",
        "t3"
      ],
      "metadata": {
        "colab": {
          "base_uri": "https://localhost:8080/"
        },
        "id": "R-nzF9fS9R2h",
        "outputId": "7959ff8c-c588-4036-eede-d416090c6c91"
      },
      "execution_count": null,
      "outputs": [
        {
          "output_type": "execute_result",
          "data": {
            "text/plain": [
              "<tf.Tensor: shape=(224, 224, 3), dtype=float32, numpy=\n",
              "array([[[0.8399068 , 0.24864697, 0.20697975],\n",
              "        [0.16662359, 0.24156773, 0.74830616],\n",
              "        [0.7077117 , 0.2667451 , 0.1246599 ],\n",
              "        ...,\n",
              "        [0.98735344, 0.7507856 , 0.5617634 ],\n",
              "        [0.9490123 , 0.27831852, 0.293108  ],\n",
              "        [0.02180517, 0.959286  , 0.6956533 ]],\n",
              "\n",
              "       [[0.34598756, 0.21227074, 0.48603833],\n",
              "        [0.50823665, 0.42053497, 0.10821807],\n",
              "        [0.9637265 , 0.05716598, 0.3961599 ],\n",
              "        ...,\n",
              "        [0.10327911, 0.8800757 , 0.36723804],\n",
              "        [0.9968817 , 0.5980835 , 0.95995224],\n",
              "        [0.36330545, 0.17266583, 0.99506986]],\n",
              "\n",
              "       [[0.06027865, 0.37298524, 0.08140039],\n",
              "        [0.83378184, 0.05473101, 0.26305223],\n",
              "        [0.00256228, 0.32079268, 0.14828312],\n",
              "        ...,\n",
              "        [0.7807716 , 0.7353846 , 0.32628286],\n",
              "        [0.7990935 , 0.66057837, 0.0714711 ],\n",
              "        [0.27790964, 0.72430706, 0.07570493]],\n",
              "\n",
              "       ...,\n",
              "\n",
              "       [[0.1783024 , 0.7285936 , 0.8408239 ],\n",
              "        [0.5429449 , 0.5875442 , 0.5525657 ],\n",
              "        [0.4882424 , 0.39456236, 0.08122599],\n",
              "        ...,\n",
              "        [0.8903862 , 0.875077  , 0.9564681 ],\n",
              "        [0.09525549, 0.3481344 , 0.6058564 ],\n",
              "        [0.623247  , 0.3164078 , 0.03913736]],\n",
              "\n",
              "       [[0.46611142, 0.5268625 , 0.37910223],\n",
              "        [0.12789083, 0.2535894 , 0.6472075 ],\n",
              "        [0.60662925, 0.08932447, 0.4727999 ],\n",
              "        ...,\n",
              "        [0.21495092, 0.43068624, 0.02324092],\n",
              "        [0.4931867 , 0.15875983, 0.73498   ],\n",
              "        [0.35139275, 0.3190409 , 0.29059112]],\n",
              "\n",
              "       [[0.18376732, 0.64005625, 0.9471339 ],\n",
              "        [0.5162586 , 0.20860934, 0.0617398 ],\n",
              "        [0.6990205 , 0.5480602 , 0.5898638 ],\n",
              "        ...,\n",
              "        [0.14928699, 0.4995891 , 0.88138926],\n",
              "        [0.92925644, 0.07701612, 0.17337155],\n",
              "        [0.76352656, 0.85768235, 0.05243969]]], dtype=float32)>"
            ]
          },
          "metadata": {},
          "execution_count": 11
        }
      ]
    },
    {
      "cell_type": "code",
      "source": [
        "tf.reduce_min(t3[:1])"
      ],
      "metadata": {
        "colab": {
          "base_uri": "https://localhost:8080/"
        },
        "id": "FWeQijvk9dUU",
        "outputId": "55005638-ba29-4c68-f263-108a9daa3a67"
      },
      "execution_count": null,
      "outputs": [
        {
          "output_type": "execute_result",
          "data": {
            "text/plain": [
              "<tf.Tensor: shape=(), dtype=float32, numpy=0.00094747543>"
            ]
          },
          "metadata": {},
          "execution_count": 15
        }
      ]
    },
    {
      "cell_type": "code",
      "source": [
        "tf.reduce_max(t3[:1])"
      ],
      "metadata": {
        "colab": {
          "base_uri": "https://localhost:8080/"
        },
        "id": "V4N-VpxN9-Oa",
        "outputId": "41f8b5db-2530-4b15-9b4a-bfd99c3741f2"
      },
      "execution_count": null,
      "outputs": [
        {
          "output_type": "execute_result",
          "data": {
            "text/plain": [
              "<tf.Tensor: shape=(), dtype=float32, numpy=0.99877584>"
            ]
          },
          "metadata": {},
          "execution_count": 14
        }
      ]
    },
    {
      "cell_type": "code",
      "source": [
        "t4 = tf.constant(tf.random.uniform(shape=[150528]),shape=[1,224, 224, 3])\n",
        "t4.shape, tf.squeeze(t4).shape"
      ],
      "metadata": {
        "colab": {
          "base_uri": "https://localhost:8080/"
        },
        "id": "6Br13sSW-EFA",
        "outputId": "353b8c5a-be67-466d-ffba-c412a172f213"
      },
      "execution_count": null,
      "outputs": [
        {
          "output_type": "execute_result",
          "data": {
            "text/plain": [
              "(TensorShape([1, 224, 224, 3]), TensorShape([224, 224, 3]))"
            ]
          },
          "metadata": {},
          "execution_count": 16
        }
      ]
    },
    {
      "cell_type": "code",
      "source": [
        "t5 = tf.range(0,10)\n",
        "tf.argmax(t5), tf.argmin(t5).numpy()"
      ],
      "metadata": {
        "colab": {
          "base_uri": "https://localhost:8080/"
        },
        "id": "JcKox231-S-9",
        "outputId": "e530f8fe-e66d-4c24-9f9e-db8fa6c7c9c5"
      },
      "execution_count": null,
      "outputs": [
        {
          "output_type": "execute_result",
          "data": {
            "text/plain": [
              "(<tf.Tensor: shape=(), dtype=int64, numpy=9>, 0)"
            ]
          },
          "metadata": {},
          "execution_count": 24
        }
      ]
    },
    {
      "cell_type": "code",
      "source": [
        "tf.one_hot(t5,depth=10)"
      ],
      "metadata": {
        "colab": {
          "base_uri": "https://localhost:8080/"
        },
        "id": "0kw85x3O-ec9",
        "outputId": "e8181291-3970-49e3-f178-ba63afdba6e0"
      },
      "execution_count": null,
      "outputs": [
        {
          "output_type": "execute_result",
          "data": {
            "text/plain": [
              "<tf.Tensor: shape=(10, 10), dtype=float32, numpy=\n",
              "array([[1., 0., 0., 0., 0., 0., 0., 0., 0., 0.],\n",
              "       [0., 1., 0., 0., 0., 0., 0., 0., 0., 0.],\n",
              "       [0., 0., 1., 0., 0., 0., 0., 0., 0., 0.],\n",
              "       [0., 0., 0., 1., 0., 0., 0., 0., 0., 0.],\n",
              "       [0., 0., 0., 0., 1., 0., 0., 0., 0., 0.],\n",
              "       [0., 0., 0., 0., 0., 1., 0., 0., 0., 0.],\n",
              "       [0., 0., 0., 0., 0., 0., 1., 0., 0., 0.],\n",
              "       [0., 0., 0., 0., 0., 0., 0., 1., 0., 0.],\n",
              "       [0., 0., 0., 0., 0., 0., 0., 0., 1., 0.],\n",
              "       [0., 0., 0., 0., 0., 0., 0., 0., 0., 1.]], dtype=float32)>"
            ]
          },
          "metadata": {},
          "execution_count": 25
        }
      ]
    },
    {
      "cell_type": "code",
      "source": [],
      "metadata": {
        "id": "QwCiO48M_RmQ"
      },
      "execution_count": null,
      "outputs": []
    }
  ]
}