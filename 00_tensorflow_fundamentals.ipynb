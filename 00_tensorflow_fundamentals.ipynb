{
  "nbformat": 4,
  "nbformat_minor": 0,
  "metadata": {
    "colab": {
      "provenance": [],
      "collapsed_sections": [
        "dM75UYoJIUSt",
        "l4qWzf44Ko5P"
      ],
      "gpuType": "T4"
    },
    "kernelspec": {
      "name": "python3",
      "display_name": "Python 3"
    },
    "language_info": {
      "name": "python"
    },
    "accelerator": "GPU"
  },
  "cells": [
    {
      "cell_type": "markdown",
      "source": [
        "### In this noutbook\n",
        ",we`re gonna cover some of the most fundamental concepts of tensors using Tenserflow"
      ],
      "metadata": {
        "id": "dM75UYoJIUSt"
      }
    },
    {
      "cell_type": "code",
      "source": [
        "# Import TensorFlow\n",
        "import tensorflow as tf\n",
        "print(tf.__version__)"
      ],
      "metadata": {
        "colab": {
          "base_uri": "https://localhost:8080/"
        },
        "id": "snrmxV4DIder",
        "outputId": "7e03f0bb-73f7-44c9-c283-6b6785581eba"
      },
      "execution_count": null,
      "outputs": [
        {
          "output_type": "stream",
          "name": "stdout",
          "text": [
            "2.14.0\n"
          ]
        }
      ]
    },
    {
      "cell_type": "code",
      "source": [
        "# Creating tensors with tf.constant()\n",
        "scalar = tf.constant(7)\n",
        "scalar"
      ],
      "metadata": {
        "colab": {
          "base_uri": "https://localhost:8080/"
        },
        "id": "dbJI9lcxJmbS",
        "outputId": "6c339d1d-63b2-4b41-9392-8b251dbe5d17"
      },
      "execution_count": null,
      "outputs": [
        {
          "output_type": "execute_result",
          "data": {
            "text/plain": [
              "<tf.Tensor: shape=(), dtype=int32, numpy=7>"
            ]
          },
          "metadata": {},
          "execution_count": 2
        }
      ]
    },
    {
      "cell_type": "code",
      "source": [
        "# Check the number of dimensions in tensor (ndim stands fro number of dimension)\n",
        "scalar.ndim"
      ],
      "metadata": {
        "colab": {
          "base_uri": "https://localhost:8080/"
        },
        "id": "yN9fQvL9J42W",
        "outputId": "097d1ce0-d25f-4968-8d60-1b8e10e14fa6"
      },
      "execution_count": null,
      "outputs": [
        {
          "output_type": "execute_result",
          "data": {
            "text/plain": [
              "0"
            ]
          },
          "metadata": {},
          "execution_count": 3
        }
      ]
    },
    {
      "cell_type": "code",
      "source": [
        "# Create a vector\n",
        "vector= tf.constant([10,10])\n",
        "vector"
      ],
      "metadata": {
        "colab": {
          "base_uri": "https://localhost:8080/"
        },
        "id": "HGh0wnYtLFQy",
        "outputId": "86d6db34-e0de-477b-9610-11abd848bfca"
      },
      "execution_count": null,
      "outputs": [
        {
          "output_type": "execute_result",
          "data": {
            "text/plain": [
              "<tf.Tensor: shape=(2,), dtype=int32, numpy=array([10, 10], dtype=int32)>"
            ]
          },
          "metadata": {},
          "execution_count": 4
        }
      ]
    },
    {
      "cell_type": "code",
      "source": [
        "# Check the dimension of vecotor\n",
        "vector.ndim"
      ],
      "metadata": {
        "colab": {
          "base_uri": "https://localhost:8080/"
        },
        "id": "zyHcQFMcLQkx",
        "outputId": "45c0f93d-80da-4a7c-bfac-bebe2d7166da"
      },
      "execution_count": null,
      "outputs": [
        {
          "output_type": "execute_result",
          "data": {
            "text/plain": [
              "1"
            ]
          },
          "metadata": {},
          "execution_count": 5
        }
      ]
    },
    {
      "cell_type": "code",
      "source": [
        "# Create a matrix more than 1 dimension\n",
        "matrix = tf.constant([[7,4],[4,7]])\n",
        "matrix"
      ],
      "metadata": {
        "colab": {
          "base_uri": "https://localhost:8080/"
        },
        "id": "TuLxmoE3Lfy8",
        "outputId": "6496771c-b0f8-40b1-c30e-28685bc0be2a"
      },
      "execution_count": null,
      "outputs": [
        {
          "output_type": "execute_result",
          "data": {
            "text/plain": [
              "<tf.Tensor: shape=(2, 2), dtype=int32, numpy=\n",
              "array([[7, 4],\n",
              "       [4, 7]], dtype=int32)>"
            ]
          },
          "metadata": {},
          "execution_count": 6
        }
      ]
    },
    {
      "cell_type": "code",
      "source": [
        "matrix.ndim"
      ],
      "metadata": {
        "colab": {
          "base_uri": "https://localhost:8080/"
        },
        "id": "qv2JA3h-Luwn",
        "outputId": "7f60c58e-0c36-429b-af72-3f6cb5aa35a1"
      },
      "execution_count": null,
      "outputs": [
        {
          "output_type": "execute_result",
          "data": {
            "text/plain": [
              "2"
            ]
          },
          "metadata": {},
          "execution_count": 7
        }
      ]
    },
    {
      "cell_type": "code",
      "source": [
        "# Create another matrix\n",
        "\n",
        "another_matrix = tf.constant([[7.,4.],[4.,7.],[8.,16.]], dtype=tf.float16)\n",
        "another_matrix"
      ],
      "metadata": {
        "colab": {
          "base_uri": "https://localhost:8080/"
        },
        "id": "efLOyyqML9q_",
        "outputId": "336ffa03-9fb0-4bcd-effa-7f903daa7dd4"
      },
      "execution_count": null,
      "outputs": [
        {
          "output_type": "execute_result",
          "data": {
            "text/plain": [
              "<tf.Tensor: shape=(3, 2), dtype=float16, numpy=\n",
              "array([[ 7.,  4.],\n",
              "       [ 4.,  7.],\n",
              "       [ 8., 16.]], dtype=float16)>"
            ]
          },
          "metadata": {},
          "execution_count": 8
        }
      ]
    },
    {
      "cell_type": "code",
      "source": [
        "another_matrix.ndim"
      ],
      "metadata": {
        "colab": {
          "base_uri": "https://localhost:8080/"
        },
        "id": "fkNqY-uTMs8d",
        "outputId": "0cc5ed1b-0403-475d-82c5-1100953d24c3"
      },
      "execution_count": null,
      "outputs": [
        {
          "output_type": "execute_result",
          "data": {
            "text/plain": [
              "2"
            ]
          },
          "metadata": {},
          "execution_count": 9
        }
      ]
    },
    {
      "cell_type": "code",
      "source": [
        "#Let`s create a tensor\n",
        "tensor = tf.constant([[[14,58,93],[1,23,4]],[[4,4,5],[1,4,7]],[[7,32,1],[3,4,7]]])\n",
        "tensor"
      ],
      "metadata": {
        "colab": {
          "base_uri": "https://localhost:8080/"
        },
        "id": "7zpA5iUUNGhP",
        "outputId": "c1fb7ada-3444-448e-9511-090b7e4e9fe8"
      },
      "execution_count": null,
      "outputs": [
        {
          "output_type": "execute_result",
          "data": {
            "text/plain": [
              "<tf.Tensor: shape=(3, 2, 3), dtype=int32, numpy=\n",
              "array([[[14, 58, 93],\n",
              "        [ 1, 23,  4]],\n",
              "\n",
              "       [[ 4,  4,  5],\n",
              "        [ 1,  4,  7]],\n",
              "\n",
              "       [[ 7, 32,  1],\n",
              "        [ 3,  4,  7]]], dtype=int32)>"
            ]
          },
          "metadata": {},
          "execution_count": 10
        }
      ]
    },
    {
      "cell_type": "code",
      "source": [
        "tensor.ndim"
      ],
      "metadata": {
        "colab": {
          "base_uri": "https://localhost:8080/"
        },
        "id": "wJlsfnF5NTpw",
        "outputId": "7cb625f9-a25b-4263-9b95-5e4f386069e2"
      },
      "execution_count": null,
      "outputs": [
        {
          "output_type": "execute_result",
          "data": {
            "text/plain": [
              "3"
            ]
          },
          "metadata": {},
          "execution_count": 11
        }
      ]
    },
    {
      "cell_type": "markdown",
      "source": [
        "Scalar: single number\n",
        "Vector: number with direction (e.g wind speed and direction)\n",
        "Matrix: a 2-dimensinal array of number\n",
        "Tensor: n-dimensinal,0-dimensonal tensor is a scalar, a 1-dimensinal tensor is a vector"
      ],
      "metadata": {
        "id": "5N6jSu9XOkwS"
      }
    },
    {
      "cell_type": "code",
      "source": [
        "# Create a same tensor with variable as above\n",
        "changeable_tensor = tf.Variable([10,7])\n",
        "changeable_tensor"
      ],
      "metadata": {
        "colab": {
          "base_uri": "https://localhost:8080/"
        },
        "id": "xX3HnnzhPEVr",
        "outputId": "e60d31ce-f100-4125-b496-f96e5375c9e3"
      },
      "execution_count": null,
      "outputs": [
        {
          "output_type": "execute_result",
          "data": {
            "text/plain": [
              "<tf.Variable 'Variable:0' shape=(2,) dtype=int32, numpy=array([10,  7], dtype=int32)>"
            ]
          },
          "metadata": {},
          "execution_count": 12
        }
      ]
    },
    {
      "cell_type": "code",
      "source": [
        "changeable_tensor[0].assign(7)"
      ],
      "metadata": {
        "colab": {
          "base_uri": "https://localhost:8080/"
        },
        "id": "dZFxlF3BQMD5",
        "outputId": "9b9fd37e-2d90-4db4-b909-8043b5fdead7"
      },
      "execution_count": null,
      "outputs": [
        {
          "output_type": "execute_result",
          "data": {
            "text/plain": [
              "<tf.Variable 'UnreadVariable' shape=(2,) dtype=int32, numpy=array([7, 7], dtype=int32)>"
            ]
          },
          "metadata": {},
          "execution_count": 13
        }
      ]
    },
    {
      "cell_type": "code",
      "source": [
        "# Creating ywo Random Tensors\n",
        "random_1= tf.random.Generator.from_seed(42)\n",
        "random_1 = random_1.normal(shape=(1,2))\n",
        "random_2= tf.random.Generator.from_seed(42)\n",
        "random_2 = random_2.normal(shape=(3,2))\n",
        "\n",
        "random_1,random_2,random_1 == random_2\n"
      ],
      "metadata": {
        "colab": {
          "base_uri": "https://localhost:8080/"
        },
        "id": "Vw_1wP2kQZ6b",
        "outputId": "430c0821-457a-4239-dbe1-e58fffa0c866"
      },
      "execution_count": null,
      "outputs": [
        {
          "output_type": "execute_result",
          "data": {
            "text/plain": [
              "(<tf.Tensor: shape=(1, 2), dtype=float32, numpy=array([[-0.7565803 , -0.06854702]], dtype=float32)>,\n",
              " <tf.Tensor: shape=(3, 2), dtype=float32, numpy=\n",
              " array([[-0.7565803 , -0.06854702],\n",
              "        [ 0.07595026, -1.2573844 ],\n",
              "        [-0.23193765, -1.8107855 ]], dtype=float32)>,\n",
              " <tf.Tensor: shape=(3, 2), dtype=bool, numpy=\n",
              " array([[ True,  True],\n",
              "        [False, False],\n",
              "        [False, False]])>)"
            ]
          },
          "metadata": {},
          "execution_count": 5
        }
      ]
    },
    {
      "cell_type": "code",
      "source": [
        "# Shuffle a tensor\n",
        "not_shuffled= tf.constant([[10,7],[3,4],[5,6]])\n",
        "#Start shuffle\n",
        "tf.random.shuffle(not_shuffled)\n"
      ],
      "metadata": {
        "id": "I-LQpDhPYhKQ",
        "colab": {
          "base_uri": "https://localhost:8080/"
        },
        "outputId": "fc54c01c-17cf-4b3c-9aee-608283dec82f"
      },
      "execution_count": null,
      "outputs": [
        {
          "output_type": "execute_result",
          "data": {
            "text/plain": [
              "<tf.Tensor: shape=(3, 2), dtype=int32, numpy=\n",
              "array([[ 5,  6],\n",
              "       [ 3,  4],\n",
              "       [10,  7]], dtype=int32)>"
            ]
          },
          "metadata": {},
          "execution_count": 15
        }
      ]
    },
    {
      "cell_type": "code",
      "source": [
        "tf.random.set_seed(102)\n",
        "tf.random.shuffle(not_shuffled,seed=102)\n"
      ],
      "metadata": {
        "colab": {
          "base_uri": "https://localhost:8080/"
        },
        "id": "XqeAYmtaAdcB",
        "outputId": "6f42c5ac-6ae0-413b-f19d-7b07dd886347"
      },
      "execution_count": null,
      "outputs": [
        {
          "output_type": "execute_result",
          "data": {
            "text/plain": [
              "<tf.Tensor: shape=(3, 2), dtype=int32, numpy=\n",
              "array([[ 3,  4],\n",
              "       [10,  7],\n",
              "       [ 5,  6]], dtype=int32)>"
            ]
          },
          "metadata": {},
          "execution_count": 16
        }
      ]
    },
    {
      "cell_type": "code",
      "source": [
        "# Other way to create tensor all ones\n",
        "tf.ones([9,3])"
      ],
      "metadata": {
        "colab": {
          "base_uri": "https://localhost:8080/"
        },
        "id": "0kJM-QN9Bkm3",
        "outputId": "7325897a-4a1d-4762-db78-f2af49801b69"
      },
      "execution_count": null,
      "outputs": [
        {
          "output_type": "execute_result",
          "data": {
            "text/plain": [
              "<tf.Tensor: shape=(9, 3), dtype=float32, numpy=\n",
              "array([[1., 1., 1.],\n",
              "       [1., 1., 1.],\n",
              "       [1., 1., 1.],\n",
              "       [1., 1., 1.],\n",
              "       [1., 1., 1.],\n",
              "       [1., 1., 1.],\n",
              "       [1., 1., 1.],\n",
              "       [1., 1., 1.],\n",
              "       [1., 1., 1.]], dtype=float32)>"
            ]
          },
          "metadata": {},
          "execution_count": 17
        }
      ]
    },
    {
      "cell_type": "code",
      "source": [
        "# Other way to create tensor all ones\n",
        "tf.zeros(shape=(3,4))"
      ],
      "metadata": {
        "colab": {
          "base_uri": "https://localhost:8080/"
        },
        "id": "hv9frgDZGKH5",
        "outputId": "125b8e7c-b2ce-4a6c-8d41-c38bd7aa0a9e"
      },
      "execution_count": null,
      "outputs": [
        {
          "output_type": "execute_result",
          "data": {
            "text/plain": [
              "<tf.Tensor: shape=(3, 4), dtype=float32, numpy=\n",
              "array([[0., 0., 0., 0.],\n",
              "       [0., 0., 0., 0.],\n",
              "       [0., 0., 0., 0.]], dtype=float32)>"
            ]
          },
          "metadata": {},
          "execution_count": 18
        }
      ]
    },
    {
      "cell_type": "markdown",
      "source": [
        "The main differance between NumPy arrays and TensorFlow tensors is that tensors can be run on a GPU"
      ],
      "metadata": {
        "id": "D34fs8tEIn0Z"
      }
    },
    {
      "cell_type": "code",
      "source": [
        "import numpy as np\n",
        "numpy_A= np.arange(1,25,dtype=np.int32)\n",
        "numpy_A"
      ],
      "metadata": {
        "colab": {
          "base_uri": "https://localhost:8080/"
        },
        "id": "BUFyGEIiI0jA",
        "outputId": "8998d614-d92d-4fdc-f5f6-d246e76445b2"
      },
      "execution_count": null,
      "outputs": [
        {
          "output_type": "execute_result",
          "data": {
            "text/plain": [
              "array([ 1,  2,  3,  4,  5,  6,  7,  8,  9, 10, 11, 12, 13, 14, 15, 16, 17,\n",
              "       18, 19, 20, 21, 22, 23, 24], dtype=int32)"
            ]
          },
          "metadata": {},
          "execution_count": 19
        }
      ]
    },
    {
      "cell_type": "code",
      "source": [
        "A = tf.constant(numpy_A, shape=(2,2,3,2))\n",
        "A"
      ],
      "metadata": {
        "colab": {
          "base_uri": "https://localhost:8080/"
        },
        "id": "njFC_hfBJK8_",
        "outputId": "c1eb83fd-968c-4109-be7e-6aa8dbbb8e85"
      },
      "execution_count": null,
      "outputs": [
        {
          "output_type": "execute_result",
          "data": {
            "text/plain": [
              "<tf.Tensor: shape=(2, 2, 3, 2), dtype=int32, numpy=\n",
              "array([[[[ 1,  2],\n",
              "         [ 3,  4],\n",
              "         [ 5,  6]],\n",
              "\n",
              "        [[ 7,  8],\n",
              "         [ 9, 10],\n",
              "         [11, 12]]],\n",
              "\n",
              "\n",
              "       [[[13, 14],\n",
              "         [15, 16],\n",
              "         [17, 18]],\n",
              "\n",
              "        [[19, 20],\n",
              "         [21, 22],\n",
              "         [23, 24]]]], dtype=int32)>"
            ]
          },
          "metadata": {},
          "execution_count": 20
        }
      ]
    },
    {
      "cell_type": "markdown",
      "source": [
        "###Getting information from tensors\n",
        "* Shape\n",
        "* Rank\n",
        "* Axis of dimensions\n",
        "* Size"
      ],
      "metadata": {
        "id": "l4qWzf44Ko5P"
      }
    },
    {
      "cell_type": "code",
      "source": [
        "# Create rank 4 tensor\n",
        "rank_4_tensor = tf.zeros(shape=[2,3,4,5])\n",
        "rank_4_tensor"
      ],
      "metadata": {
        "colab": {
          "base_uri": "https://localhost:8080/"
        },
        "id": "mZIpcEjWKwzi",
        "outputId": "8cb6af12-0990-421e-e192-e8ba96cfd5a3"
      },
      "execution_count": null,
      "outputs": [
        {
          "output_type": "execute_result",
          "data": {
            "text/plain": [
              "<tf.Tensor: shape=(2, 3, 4, 5), dtype=float32, numpy=\n",
              "array([[[[0., 0., 0., 0., 0.],\n",
              "         [0., 0., 0., 0., 0.],\n",
              "         [0., 0., 0., 0., 0.],\n",
              "         [0., 0., 0., 0., 0.]],\n",
              "\n",
              "        [[0., 0., 0., 0., 0.],\n",
              "         [0., 0., 0., 0., 0.],\n",
              "         [0., 0., 0., 0., 0.],\n",
              "         [0., 0., 0., 0., 0.]],\n",
              "\n",
              "        [[0., 0., 0., 0., 0.],\n",
              "         [0., 0., 0., 0., 0.],\n",
              "         [0., 0., 0., 0., 0.],\n",
              "         [0., 0., 0., 0., 0.]]],\n",
              "\n",
              "\n",
              "       [[[0., 0., 0., 0., 0.],\n",
              "         [0., 0., 0., 0., 0.],\n",
              "         [0., 0., 0., 0., 0.],\n",
              "         [0., 0., 0., 0., 0.]],\n",
              "\n",
              "        [[0., 0., 0., 0., 0.],\n",
              "         [0., 0., 0., 0., 0.],\n",
              "         [0., 0., 0., 0., 0.],\n",
              "         [0., 0., 0., 0., 0.]],\n",
              "\n",
              "        [[0., 0., 0., 0., 0.],\n",
              "         [0., 0., 0., 0., 0.],\n",
              "         [0., 0., 0., 0., 0.],\n",
              "         [0., 0., 0., 0., 0.]]]], dtype=float32)>"
            ]
          },
          "metadata": {},
          "execution_count": 21
        }
      ]
    },
    {
      "cell_type": "code",
      "source": [
        "rank_4_tensor[1][2][1][1]"
      ],
      "metadata": {
        "colab": {
          "base_uri": "https://localhost:8080/"
        },
        "id": "CP8U4lXfO-DY",
        "outputId": "e7a84870-d5a3-450f-ba68-b74ed08c01e0"
      },
      "execution_count": null,
      "outputs": [
        {
          "output_type": "execute_result",
          "data": {
            "text/plain": [
              "<tf.Tensor: shape=(), dtype=float32, numpy=0.0>"
            ]
          },
          "metadata": {},
          "execution_count": 22
        }
      ]
    },
    {
      "cell_type": "code",
      "source": [
        "rank_4_tensor.shape, rank_4_tensor.ndim, tf.size(rank_4_tensor)"
      ],
      "metadata": {
        "colab": {
          "base_uri": "https://localhost:8080/"
        },
        "id": "hkC9FxjqPTwl",
        "outputId": "12cbe60e-bbaa-4136-afe6-d4cc049736aa"
      },
      "execution_count": null,
      "outputs": [
        {
          "output_type": "execute_result",
          "data": {
            "text/plain": [
              "(TensorShape([2, 3, 4, 5]), 4, <tf.Tensor: shape=(), dtype=int32, numpy=120>)"
            ]
          },
          "metadata": {},
          "execution_count": 23
        }
      ]
    },
    {
      "cell_type": "code",
      "source": [
        "#Get various attributes of our tensor\n",
        "print(\"Datatype of every element: \", rank_4_tensor.dtype)\n",
        "print(\"Number of dimensions: \", rank_4_tensor.ndim)\n",
        "print(\"Shape of tensor: \", rank_4_tensor.shape)\n",
        "print(\"Element along the 0 axis: \", rank_4_tensor.shape[0])\n",
        "print(\"Element along the last axis: \", rank_4_tensor.shape[-1])\n",
        "print(\"Totall number of elements: \", tf.size(rank_4_tensor).numpy())"
      ],
      "metadata": {
        "colab": {
          "base_uri": "https://localhost:8080/"
        },
        "id": "2nRbIQwWPmQk",
        "outputId": "03404fdb-5791-450d-b805-c6a867882ab0"
      },
      "execution_count": null,
      "outputs": [
        {
          "output_type": "stream",
          "name": "stdout",
          "text": [
            "Datatype of every element:  <dtype: 'float32'>\n",
            "Number of dimensions:  4\n",
            "Shape of tensor:  (2, 3, 4, 5)\n",
            "Element along the 0 axis:  2\n",
            "Element along the last axis:  5\n",
            "Totall number of elements:  120\n"
          ]
        }
      ]
    },
    {
      "cell_type": "markdown",
      "source": [
        "Tensor can be indexed just like python lists."
      ],
      "metadata": {
        "id": "hONOoKBdQ-YW"
      }
    },
    {
      "cell_type": "code",
      "source": [
        "# Get first 2 elements of eac dimension\n",
        "\n",
        "rank_4_tensor[:2,:2,:2,:4]"
      ],
      "metadata": {
        "colab": {
          "base_uri": "https://localhost:8080/"
        },
        "id": "Q01aqyjmRDuy",
        "outputId": "b46f97ba-8547-4b36-e65d-e37117afec27"
      },
      "execution_count": null,
      "outputs": [
        {
          "output_type": "execute_result",
          "data": {
            "text/plain": [
              "<tf.Tensor: shape=(2, 2, 2, 4), dtype=float32, numpy=\n",
              "array([[[[0., 0., 0., 0.],\n",
              "         [0., 0., 0., 0.]],\n",
              "\n",
              "        [[0., 0., 0., 0.],\n",
              "         [0., 0., 0., 0.]]],\n",
              "\n",
              "\n",
              "       [[[0., 0., 0., 0.],\n",
              "         [0., 0., 0., 0.]],\n",
              "\n",
              "        [[0., 0., 0., 0.],\n",
              "         [0., 0., 0., 0.]]]], dtype=float32)>"
            ]
          },
          "metadata": {},
          "execution_count": 25
        }
      ]
    },
    {
      "cell_type": "code",
      "source": [
        "#Get the firs element  from each dimension from each index expet fro the final one\n",
        "rank_4_tensor[:1,:1,:1].numpy()"
      ],
      "metadata": {
        "colab": {
          "base_uri": "https://localhost:8080/"
        },
        "id": "2W8ZVi5DROt9",
        "outputId": "f7db1449-789a-4911-864a-66bde159a0bb"
      },
      "execution_count": null,
      "outputs": [
        {
          "output_type": "execute_result",
          "data": {
            "text/plain": [
              "array([[[[0., 0., 0., 0., 0.]]]], dtype=float32)"
            ]
          },
          "metadata": {},
          "execution_count": 26
        }
      ]
    },
    {
      "cell_type": "code",
      "source": [
        "#Create a rank 2 tensor (2 dimensions)\n",
        "rank_2_tensor = tf.constant([[10,3],[2,3]])\n",
        "rank_2_tensor.ndim"
      ],
      "metadata": {
        "colab": {
          "base_uri": "https://localhost:8080/"
        },
        "id": "SMmsYzAHR-gQ",
        "outputId": "58520a68-f843-4c4c-8dc9-39e30c41ec05"
      },
      "execution_count": null,
      "outputs": [
        {
          "output_type": "execute_result",
          "data": {
            "text/plain": [
              "2"
            ]
          },
          "metadata": {},
          "execution_count": 27
        }
      ]
    },
    {
      "cell_type": "code",
      "source": [
        "rank_2_tensor[:,-1]"
      ],
      "metadata": {
        "colab": {
          "base_uri": "https://localhost:8080/"
        },
        "id": "sOOy5iJuSfDj",
        "outputId": "2eef4fef-9139-425d-985b-299d0c2313f8"
      },
      "execution_count": null,
      "outputs": [
        {
          "output_type": "execute_result",
          "data": {
            "text/plain": [
              "<tf.Tensor: shape=(2,), dtype=int32, numpy=array([3, 3], dtype=int32)>"
            ]
          },
          "metadata": {},
          "execution_count": 28
        }
      ]
    },
    {
      "cell_type": "code",
      "source": [
        "#Add in tensor extra dimension\n",
        "rank_3_tensor = rank_2_tensor[..., tf.newaxis]\n",
        "rank_3_tensor\n"
      ],
      "metadata": {
        "colab": {
          "base_uri": "https://localhost:8080/"
        },
        "id": "T6HLtP50Sr14",
        "outputId": "977447a8-c6fe-4632-f52b-a6a41423658d"
      },
      "execution_count": null,
      "outputs": [
        {
          "output_type": "execute_result",
          "data": {
            "text/plain": [
              "<tf.Tensor: shape=(2, 2, 1), dtype=int32, numpy=\n",
              "array([[[10],\n",
              "        [ 3]],\n",
              "\n",
              "       [[ 2],\n",
              "        [ 3]]], dtype=int32)>"
            ]
          },
          "metadata": {},
          "execution_count": 29
        }
      ]
    },
    {
      "cell_type": "code",
      "source": [
        "# Alternatice to tf.newaxis\n",
        "tf.expand_dims(rank_2_tensor, axis=-1)"
      ],
      "metadata": {
        "colab": {
          "base_uri": "https://localhost:8080/"
        },
        "id": "XQM9uN6NTDTa",
        "outputId": "8e4bd611-f296-4357-85d6-31b47a5c03ce"
      },
      "execution_count": null,
      "outputs": [
        {
          "output_type": "execute_result",
          "data": {
            "text/plain": [
              "<tf.Tensor: shape=(2, 2, 1), dtype=int32, numpy=\n",
              "array([[[10],\n",
              "        [ 3]],\n",
              "\n",
              "       [[ 2],\n",
              "        [ 3]]], dtype=int32)>"
            ]
          },
          "metadata": {},
          "execution_count": 30
        }
      ]
    },
    {
      "cell_type": "code",
      "source": [
        "# You can add values to  a tensor using the addition operator\n",
        "\n",
        "tensor = tf.constant([[10,7],[8,90]])\n",
        "tensor/10\n",
        "\n"
      ],
      "metadata": {
        "colab": {
          "base_uri": "https://localhost:8080/"
        },
        "id": "rFbdPI94T18M",
        "outputId": "10fb88b3-0e19-4c4e-e748-8624941c80b0"
      },
      "execution_count": null,
      "outputs": [
        {
          "output_type": "execute_result",
          "data": {
            "text/plain": [
              "<tf.Tensor: shape=(2, 2), dtype=float64, numpy=\n",
              "array([[1. , 0.7],\n",
              "       [0.8, 9. ]])>"
            ]
          },
          "metadata": {},
          "execution_count": 31
        }
      ]
    },
    {
      "cell_type": "code",
      "source": [
        "# We can use the tennsor flow built-in function\n",
        "tf.add(tensor,10)\n",
        "tf.multiply(tensor,10)"
      ],
      "metadata": {
        "colab": {
          "base_uri": "https://localhost:8080/"
        },
        "id": "hnSkiXcSUzth",
        "outputId": "2b905df0-da71-488e-c4ff-a707f0e57fd1"
      },
      "execution_count": null,
      "outputs": [
        {
          "output_type": "execute_result",
          "data": {
            "text/plain": [
              "<tf.Tensor: shape=(2, 2), dtype=int32, numpy=\n",
              "array([[100,  70],\n",
              "       [ 80, 900]], dtype=int32)>"
            ]
          },
          "metadata": {},
          "execution_count": 32
        }
      ]
    },
    {
      "cell_type": "code",
      "source": [
        "print(tensor@tensor)\n",
        "tf.matmul(tensor,tensor)\n"
      ],
      "metadata": {
        "colab": {
          "base_uri": "https://localhost:8080/"
        },
        "id": "bozG4gMiVarC",
        "outputId": "393eda53-dc23-4428-be0a-a5e074000541"
      },
      "execution_count": null,
      "outputs": [
        {
          "output_type": "stream",
          "name": "stdout",
          "text": [
            "tf.Tensor(\n",
            "[[ 156  700]\n",
            " [ 800 8156]], shape=(2, 2), dtype=int32)\n"
          ]
        },
        {
          "output_type": "execute_result",
          "data": {
            "text/plain": [
              "<tf.Tensor: shape=(2, 2), dtype=int32, numpy=\n",
              "array([[ 156,  700],\n",
              "       [ 800, 8156]], dtype=int32)>"
            ]
          },
          "metadata": {},
          "execution_count": 33
        }
      ]
    },
    {
      "cell_type": "code",
      "source": [
        "test_tensor=tf.constant([[1,2],[7,2],[3,3]])\n",
        "test_tensor2=tf.constant([[3],[6],[8]])\n",
        "tf.matmul(tf.reshape(test_tensor,shape=(2,3)),test_tensor2)\n"
      ],
      "metadata": {
        "colab": {
          "base_uri": "https://localhost:8080/"
        },
        "id": "bvDZIEhUWCpM",
        "outputId": "03c1be41-5796-4c8f-8d90-758d88e2f6e5"
      },
      "execution_count": null,
      "outputs": [
        {
          "output_type": "execute_result",
          "data": {
            "text/plain": [
              "<tf.Tensor: shape=(2, 1), dtype=int32, numpy=\n",
              "array([[71],\n",
              "       [48]], dtype=int32)>"
            ]
          },
          "metadata": {},
          "execution_count": 34
        }
      ]
    },
    {
      "cell_type": "code",
      "source": [
        "# reshape tensor with transpose\n",
        "test_tensor, tf.transpose(test_tensor),test_tensor2, tf.reshape(test_tensor, shape=(2,3))"
      ],
      "metadata": {
        "colab": {
          "base_uri": "https://localhost:8080/"
        },
        "id": "D9ohVQFrd35U",
        "outputId": "5f2e6236-b8ca-47c2-8253-faa639ac7d1a"
      },
      "execution_count": null,
      "outputs": [
        {
          "output_type": "execute_result",
          "data": {
            "text/plain": [
              "(<tf.Tensor: shape=(3, 2), dtype=int32, numpy=\n",
              " array([[1, 2],\n",
              "        [7, 2],\n",
              "        [3, 3]], dtype=int32)>,\n",
              " <tf.Tensor: shape=(2, 3), dtype=int32, numpy=\n",
              " array([[1, 7, 3],\n",
              "        [2, 2, 3]], dtype=int32)>,\n",
              " <tf.Tensor: shape=(3, 1), dtype=int32, numpy=\n",
              " array([[3],\n",
              "        [6],\n",
              "        [8]], dtype=int32)>,\n",
              " <tf.Tensor: shape=(2, 3), dtype=int32, numpy=\n",
              " array([[1, 2, 7],\n",
              "        [2, 3, 3]], dtype=int32)>)"
            ]
          },
          "metadata": {},
          "execution_count": 35
        }
      ]
    },
    {
      "cell_type": "code",
      "source": [
        "#Try mtarix mult with transpose\n",
        "tf.matmul(tf.transpose(test_tensor),test_tensor2)"
      ],
      "metadata": {
        "colab": {
          "base_uri": "https://localhost:8080/"
        },
        "id": "gmR2Fddfjbdb",
        "outputId": "5b8667e5-909b-4bb2-b9c3-58a378148e8e"
      },
      "execution_count": null,
      "outputs": [
        {
          "output_type": "execute_result",
          "data": {
            "text/plain": [
              "<tf.Tensor: shape=(2, 1), dtype=int32, numpy=\n",
              "array([[69],\n",
              "       [42]], dtype=int32)>"
            ]
          },
          "metadata": {},
          "execution_count": 36
        }
      ]
    },
    {
      "cell_type": "code",
      "source": [
        "tf.tensordot(tf.transpose(test_tensor),test_tensor2, axes=1)"
      ],
      "metadata": {
        "colab": {
          "base_uri": "https://localhost:8080/"
        },
        "id": "GImiajpaj-mb",
        "outputId": "e548a649-5985-455d-85e2-d445fed216c7"
      },
      "execution_count": null,
      "outputs": [
        {
          "output_type": "execute_result",
          "data": {
            "text/plain": [
              "<tf.Tensor: shape=(2, 1), dtype=int32, numpy=\n",
              "array([[69],\n",
              "       [42]], dtype=int32)>"
            ]
          },
          "metadata": {},
          "execution_count": 37
        }
      ]
    },
    {
      "cell_type": "code",
      "source": [
        "B = tf.constant([[1.7,3.2],[1.2,5.6]])\n",
        "B"
      ],
      "metadata": {
        "colab": {
          "base_uri": "https://localhost:8080/"
        },
        "id": "YpuOi4TSuPo6",
        "outputId": "7c5cf8aa-4bc6-4924-d715-45a5ddae95d4"
      },
      "execution_count": null,
      "outputs": [
        {
          "output_type": "execute_result",
          "data": {
            "text/plain": [
              "<tf.Tensor: shape=(2, 2), dtype=float32, numpy=\n",
              "array([[1.7, 3.2],\n",
              "       [1.2, 5.6]], dtype=float32)>"
            ]
          },
          "metadata": {},
          "execution_count": 38
        }
      ]
    },
    {
      "cell_type": "code",
      "source": [
        "# Change dtype of tensor\n",
        "tf.cast(B,dtype=tf.float16)"
      ],
      "metadata": {
        "colab": {
          "base_uri": "https://localhost:8080/"
        },
        "id": "Jcd2_-EjvYvV",
        "outputId": "41f4578d-534d-4507-ded1-1c6d904b0a10"
      },
      "execution_count": null,
      "outputs": [
        {
          "output_type": "execute_result",
          "data": {
            "text/plain": [
              "<tf.Tensor: shape=(2, 2), dtype=float16, numpy=\n",
              "array([[1.7, 3.2],\n",
              "       [1.2, 5.6]], dtype=float16)>"
            ]
          },
          "metadata": {},
          "execution_count": 39
        }
      ]
    },
    {
      "cell_type": "code",
      "source": [
        "C = tf.constant([[-1,-2],[3,4]])\n",
        "C"
      ],
      "metadata": {
        "colab": {
          "base_uri": "https://localhost:8080/"
        },
        "id": "Z8JkORoSve1-",
        "outputId": "06d19fb9-325b-4c7d-ea0d-65df5ed4178e"
      },
      "execution_count": null,
      "outputs": [
        {
          "output_type": "execute_result",
          "data": {
            "text/plain": [
              "<tf.Tensor: shape=(2, 2), dtype=int32, numpy=\n",
              "array([[-1, -2],\n",
              "       [ 3,  4]], dtype=int32)>"
            ]
          },
          "metadata": {},
          "execution_count": 40
        }
      ]
    },
    {
      "cell_type": "markdown",
      "source": [
        "### AGGREGATING tensors"
      ],
      "metadata": {
        "id": "WgWu8cDzzR7L"
      }
    },
    {
      "cell_type": "code",
      "source": [
        "#Return same tensor but turn the negative int to positive\n",
        "tf.abs(C)"
      ],
      "metadata": {
        "colab": {
          "base_uri": "https://localhost:8080/"
        },
        "id": "BVsyFCIvwbo_",
        "outputId": "a979e53f-4596-485f-a153-6476e6a1d3e0"
      },
      "execution_count": null,
      "outputs": [
        {
          "output_type": "execute_result",
          "data": {
            "text/plain": [
              "<tf.Tensor: shape=(2, 2), dtype=int32, numpy=\n",
              "array([[1, 2],\n",
              "       [3, 4]], dtype=int32)>"
            ]
          },
          "metadata": {},
          "execution_count": 41
        }
      ]
    },
    {
      "cell_type": "code",
      "source": [
        "U = tf.constant(np.random.randint(0,100,size=50))\n",
        "U"
      ],
      "metadata": {
        "colab": {
          "base_uri": "https://localhost:8080/"
        },
        "id": "EsB1e4PtzIfS",
        "outputId": "0ce59f14-1c05-4f4c-9522-54357d8fae5a"
      },
      "execution_count": null,
      "outputs": [
        {
          "output_type": "execute_result",
          "data": {
            "text/plain": [
              "<tf.Tensor: shape=(50,), dtype=int64, numpy=\n",
              "array([68, 22, 58, 78, 10, 11, 57, 54,  3, 18, 62, 15, 92, 27,  3, 16,  3,\n",
              "       79, 74, 28, 98, 19, 46, 51, 15, 70, 68, 64, 36, 86, 45,  8, 18, 14,\n",
              "       97, 69,  7, 96, 61, 76, 51, 96, 88, 84, 57,  0, 82, 80, 50, 10])>"
            ]
          },
          "metadata": {},
          "execution_count": 42
        }
      ]
    },
    {
      "cell_type": "code",
      "source": [
        "tf.reduce_min(tf.reshape(U,shape=(10,5)))"
      ],
      "metadata": {
        "colab": {
          "base_uri": "https://localhost:8080/"
        },
        "id": "CMM4E63p0oKi",
        "outputId": "8d606a88-fc4d-4b12-bf7d-dc26b6aba9e1"
      },
      "execution_count": null,
      "outputs": [
        {
          "output_type": "execute_result",
          "data": {
            "text/plain": [
              "<tf.Tensor: shape=(), dtype=int64, numpy=0>"
            ]
          },
          "metadata": {},
          "execution_count": 43
        }
      ]
    },
    {
      "cell_type": "code",
      "source": [
        "tf.reduce_max(U)"
      ],
      "metadata": {
        "colab": {
          "base_uri": "https://localhost:8080/"
        },
        "id": "BzQJE_OI0w7M",
        "outputId": "68e85575-96d5-4315-d64a-361a8a2679e3"
      },
      "execution_count": null,
      "outputs": [
        {
          "output_type": "execute_result",
          "data": {
            "text/plain": [
              "<tf.Tensor: shape=(), dtype=int64, numpy=98>"
            ]
          },
          "metadata": {},
          "execution_count": 44
        }
      ]
    },
    {
      "cell_type": "code",
      "source": [
        "tf.reduce_mean(U)"
      ],
      "metadata": {
        "colab": {
          "base_uri": "https://localhost:8080/"
        },
        "id": "pLUoiMEn1HpX",
        "outputId": "6734b5ab-42a1-49da-fb8a-d7aeeb7a3fd1"
      },
      "execution_count": null,
      "outputs": [
        {
          "output_type": "execute_result",
          "data": {
            "text/plain": [
              "<tf.Tensor: shape=(), dtype=int64, numpy=48>"
            ]
          },
          "metadata": {},
          "execution_count": 45
        }
      ]
    },
    {
      "cell_type": "code",
      "source": [
        "tf.reduce_sum(U)"
      ],
      "metadata": {
        "colab": {
          "base_uri": "https://localhost:8080/"
        },
        "id": "v1mqjwzE1M6X",
        "outputId": "abd94053-779e-4b5f-f3b8-afa73c4a53bd"
      },
      "execution_count": null,
      "outputs": [
        {
          "output_type": "execute_result",
          "data": {
            "text/plain": [
              "<tf.Tensor: shape=(), dtype=int64, numpy=2420>"
            ]
          },
          "metadata": {},
          "execution_count": 46
        }
      ]
    },
    {
      "cell_type": "code",
      "source": [
        "tf.math.reduce_std(tf.cast(U,dtype=tf.float32))"
      ],
      "metadata": {
        "colab": {
          "base_uri": "https://localhost:8080/"
        },
        "id": "FeJyp60f1Vah",
        "outputId": "59d646b9-7043-4199-bad3-27e5818d71ca"
      },
      "execution_count": null,
      "outputs": [
        {
          "output_type": "execute_result",
          "data": {
            "text/plain": [
              "<tf.Tensor: shape=(), dtype=float32, numpy=31.155737>"
            ]
          },
          "metadata": {},
          "execution_count": 47
        }
      ]
    },
    {
      "cell_type": "code",
      "source": [
        "tf.math.reduce_variance(tf.cast(U,dtype=tf.float32))"
      ],
      "metadata": {
        "colab": {
          "base_uri": "https://localhost:8080/"
        },
        "id": "2efFvdxj1Xck",
        "outputId": "9dfad5e1-5207-46e2-c391-170c13a16f92"
      },
      "execution_count": null,
      "outputs": [
        {
          "output_type": "execute_result",
          "data": {
            "text/plain": [
              "<tf.Tensor: shape=(), dtype=float32, numpy=970.68>"
            ]
          },
          "metadata": {},
          "execution_count": 48
        }
      ]
    },
    {
      "cell_type": "markdown",
      "source": [
        "### Find the positional min ,max"
      ],
      "metadata": {
        "id": "MA9reoPp6nKq"
      }
    },
    {
      "cell_type": "code",
      "source": [
        "F = tf.random.uniform(shape=[50])\n",
        "tf.reshape(F,shape=(10,5))\n"
      ],
      "metadata": {
        "colab": {
          "base_uri": "https://localhost:8080/"
        },
        "id": "yRaTjmfG6lQP",
        "outputId": "c72425ad-e224-4145-b23a-25f3f2b27e67"
      },
      "execution_count": null,
      "outputs": [
        {
          "output_type": "execute_result",
          "data": {
            "text/plain": [
              "<tf.Tensor: shape=(10, 5), dtype=float32, numpy=\n",
              "array([[0.533517  , 0.96770155, 0.6945795 , 0.5345806 , 0.7656667 ],\n",
              "       [0.17176735, 0.6189555 , 0.3416686 , 0.411785  , 0.06905842],\n",
              "       [0.4499563 , 0.44776237, 0.13390875, 0.80637443, 0.6515355 ],\n",
              "       [0.9804231 , 0.4074248 , 0.6664448 , 0.4707713 , 0.47038424],\n",
              "       [0.01349187, 0.04563463, 0.23566914, 0.9234983 , 0.94908   ],\n",
              "       [0.84737265, 0.4593165 , 0.473552  , 0.04484892, 0.59660757],\n",
              "       [0.55363834, 0.6295966 , 0.40924048, 0.12737226, 0.79868615],\n",
              "       [0.3982358 , 0.78974056, 0.94155395, 0.6347506 , 0.6622727 ],\n",
              "       [0.72235286, 0.15785778, 0.07670176, 0.05612791, 0.9999784 ],\n",
              "       [0.2799611 , 0.33378303, 0.9377041 , 0.91646826, 0.1423198 ]],\n",
              "      dtype=float32)>"
            ]
          },
          "metadata": {},
          "execution_count": 6
        }
      ]
    },
    {
      "cell_type": "code",
      "source": [
        "tf.argmax(F)"
      ],
      "metadata": {
        "colab": {
          "base_uri": "https://localhost:8080/"
        },
        "id": "_4KwIBdW9Pfl",
        "outputId": "87097045-a994-453a-d5ee-143ba0d5d564"
      },
      "execution_count": null,
      "outputs": [
        {
          "output_type": "execute_result",
          "data": {
            "text/plain": [
              "<tf.Tensor: shape=(), dtype=int64, numpy=25>"
            ]
          },
          "metadata": {},
          "execution_count": 50
        }
      ]
    },
    {
      "cell_type": "code",
      "source": [
        "tf.argmin(F)"
      ],
      "metadata": {
        "colab": {
          "base_uri": "https://localhost:8080/"
        },
        "id": "sigoiY9A-Ajg",
        "outputId": "52eee68d-ae4e-4e3d-d3b4-e49becaf52c5"
      },
      "execution_count": null,
      "outputs": [
        {
          "output_type": "execute_result",
          "data": {
            "text/plain": [
              "<tf.Tensor: shape=(), dtype=int64, numpy=33>"
            ]
          },
          "metadata": {},
          "execution_count": 51
        }
      ]
    },
    {
      "cell_type": "code",
      "source": [
        "F[tf.argmax(F)]"
      ],
      "metadata": {
        "colab": {
          "base_uri": "https://localhost:8080/"
        },
        "id": "1z_80v7J-DXz",
        "outputId": "25df9972-c67d-4cde-f50d-f0c81d39fb84"
      },
      "execution_count": null,
      "outputs": [
        {
          "output_type": "execute_result",
          "data": {
            "text/plain": [
              "<tf.Tensor: shape=(), dtype=float32, numpy=0.9948571>"
            ]
          },
          "metadata": {},
          "execution_count": 52
        }
      ]
    },
    {
      "cell_type": "markdown",
      "source": [
        "### Squeezing a tensor (removing all single dimensions)\n"
      ],
      "metadata": {
        "id": "kcifWPImsEWv"
      }
    },
    {
      "cell_type": "code",
      "source": [
        "tf.random.set_seed(42)\n",
        "G = tf.constant(tf.random.uniform(shape=[50]), shape=(1,1,1,1,1,50))\n",
        "G"
      ],
      "metadata": {
        "colab": {
          "base_uri": "https://localhost:8080/"
        },
        "id": "LfH7dCGasLAP",
        "outputId": "444db0fd-7e35-4ec7-c103-682bd7ab7434"
      },
      "execution_count": null,
      "outputs": [
        {
          "output_type": "execute_result",
          "data": {
            "text/plain": [
              "<tf.Tensor: shape=(1, 1, 1, 1, 1, 50), dtype=float32, numpy=\n",
              "array([[[[[[0.6645621 , 0.44100678, 0.3528825 , 0.46448255,\n",
              "            0.03366041, 0.68467236, 0.74011743, 0.8724445 ,\n",
              "            0.22632635, 0.22319686, 0.3103881 , 0.7223358 ,\n",
              "            0.13318717, 0.5480639 , 0.5746088 , 0.8996835 ,\n",
              "            0.00946367, 0.5212307 , 0.6345445 , 0.1993283 ,\n",
              "            0.72942245, 0.54583454, 0.10756552, 0.6767061 ,\n",
              "            0.6602763 , 0.33695042, 0.60141766, 0.21062577,\n",
              "            0.8527372 , 0.44062173, 0.9485276 , 0.23752594,\n",
              "            0.81179297, 0.5263394 , 0.494308  , 0.21612847,\n",
              "            0.8457197 , 0.8718841 , 0.3083862 , 0.6868038 ,\n",
              "            0.23764038, 0.7817228 , 0.9671384 , 0.06870162,\n",
              "            0.79873943, 0.66028714, 0.5871513 , 0.16461694,\n",
              "            0.7381023 , 0.32054043]]]]]], dtype=float32)>"
            ]
          },
          "metadata": {},
          "execution_count": 53
        }
      ]
    },
    {
      "cell_type": "code",
      "source": [
        "G_squeezed= tf.squeeze(G)\n",
        "G_squeezed.shape"
      ],
      "metadata": {
        "colab": {
          "base_uri": "https://localhost:8080/"
        },
        "id": "ib49MSa5sXAD",
        "outputId": "659d70d6-68d8-4f9d-8090-0cb708179007"
      },
      "execution_count": null,
      "outputs": [
        {
          "output_type": "execute_result",
          "data": {
            "text/plain": [
              "TensorShape([50])"
            ]
          },
          "metadata": {},
          "execution_count": 54
        }
      ]
    },
    {
      "cell_type": "markdown",
      "source": [
        "### One-hot encoding tensor\n"
      ],
      "metadata": {
        "id": "7ib391YXtPTP"
      }
    },
    {
      "cell_type": "code",
      "source": [
        "some_list = [0,1,2,3]\n",
        "#One hot encode\n",
        "tf.one_hot(some_list, depth=4)"
      ],
      "metadata": {
        "colab": {
          "base_uri": "https://localhost:8080/"
        },
        "id": "fr4IK4BptFe3",
        "outputId": "c22ab7d1-3451-4c32-8a8a-10110a671779"
      },
      "execution_count": null,
      "outputs": [
        {
          "output_type": "execute_result",
          "data": {
            "text/plain": [
              "<tf.Tensor: shape=(4, 4), dtype=float32, numpy=\n",
              "array([[1., 0., 0., 0.],\n",
              "       [0., 1., 0., 0.],\n",
              "       [0., 0., 1., 0.],\n",
              "       [0., 0., 0., 1.]], dtype=float32)>"
            ]
          },
          "metadata": {},
          "execution_count": 55
        }
      ]
    },
    {
      "cell_type": "code",
      "source": [
        "# Specify custom values for one hot\n",
        "tf.one_hot(some_list,depth=4,on_value=\"yo i love deep learnig\", off_value=\"i also like to dancce\")"
      ],
      "metadata": {
        "colab": {
          "base_uri": "https://localhost:8080/"
        },
        "id": "kpKBReEGtEhw",
        "outputId": "e30204b5-bdd6-4d3c-c962-6edda00e4ef2"
      },
      "execution_count": null,
      "outputs": [
        {
          "output_type": "execute_result",
          "data": {
            "text/plain": [
              "<tf.Tensor: shape=(4, 4), dtype=string, numpy=\n",
              "array([[b'yo i love deep learnig', b'i also like to dancce',\n",
              "        b'i also like to dancce', b'i also like to dancce'],\n",
              "       [b'i also like to dancce', b'yo i love deep learnig',\n",
              "        b'i also like to dancce', b'i also like to dancce'],\n",
              "       [b'i also like to dancce', b'i also like to dancce',\n",
              "        b'yo i love deep learnig', b'i also like to dancce'],\n",
              "       [b'i also like to dancce', b'i also like to dancce',\n",
              "        b'i also like to dancce', b'yo i love deep learnig']],\n",
              "      dtype=object)>"
            ]
          },
          "metadata": {},
          "execution_count": 56
        }
      ]
    },
    {
      "cell_type": "markdown",
      "source": [
        "### Few common math operations"
      ],
      "metadata": {
        "id": "PmxMC3Utu-6k"
      }
    },
    {
      "cell_type": "code",
      "source": [
        "H = tf.range(1,10)\n",
        "H"
      ],
      "metadata": {
        "colab": {
          "base_uri": "https://localhost:8080/"
        },
        "id": "C8TBB8SbvCT2",
        "outputId": "c762707a-f50c-4ccb-837f-5107ff78db0e"
      },
      "execution_count": null,
      "outputs": [
        {
          "output_type": "execute_result",
          "data": {
            "text/plain": [
              "<tf.Tensor: shape=(9,), dtype=int32, numpy=array([1, 2, 3, 4, 5, 6, 7, 8, 9], dtype=int32)>"
            ]
          },
          "metadata": {},
          "execution_count": 57
        }
      ]
    },
    {
      "cell_type": "code",
      "source": [
        "tf.square(H)"
      ],
      "metadata": {
        "colab": {
          "base_uri": "https://localhost:8080/"
        },
        "id": "a9q0fxO9vJBb",
        "outputId": "d2bc93fb-6c24-4619-9516-aa3a671b8e89"
      },
      "execution_count": null,
      "outputs": [
        {
          "output_type": "execute_result",
          "data": {
            "text/plain": [
              "<tf.Tensor: shape=(9,), dtype=int32, numpy=array([ 1,  4,  9, 16, 25, 36, 49, 64, 81], dtype=int32)>"
            ]
          },
          "metadata": {},
          "execution_count": 58
        }
      ]
    },
    {
      "cell_type": "code",
      "source": [
        "tf.math.sqrt(tf.cast(H,dtype=tf.float32))"
      ],
      "metadata": {
        "colab": {
          "base_uri": "https://localhost:8080/"
        },
        "id": "Q4Z9MeKEvN3D",
        "outputId": "09cf104b-8248-456c-c888-e717d5dcec94"
      },
      "execution_count": null,
      "outputs": [
        {
          "output_type": "execute_result",
          "data": {
            "text/plain": [
              "<tf.Tensor: shape=(9,), dtype=float32, numpy=\n",
              "array([1.       , 1.4142135, 1.7320508, 2.       , 2.2360678, 2.4494896,\n",
              "       2.6457512, 2.828427 , 3.       ], dtype=float32)>"
            ]
          },
          "metadata": {},
          "execution_count": 59
        }
      ]
    },
    {
      "cell_type": "code",
      "source": [
        "tf.math.log(tf.cast(H,dtype=tf.float32))"
      ],
      "metadata": {
        "colab": {
          "base_uri": "https://localhost:8080/"
        },
        "id": "eBpOibX5vURq",
        "outputId": "a0272034-657a-43b5-dd4e-15f040fd1240"
      },
      "execution_count": null,
      "outputs": [
        {
          "output_type": "execute_result",
          "data": {
            "text/plain": [
              "<tf.Tensor: shape=(9,), dtype=float32, numpy=\n",
              "array([0.       , 0.6931472, 1.0986123, 1.3862944, 1.609438 , 1.7917595,\n",
              "       1.9459102, 2.0794415, 2.1972246], dtype=float32)>"
            ]
          },
          "metadata": {},
          "execution_count": 60
        }
      ]
    },
    {
      "cell_type": "markdown",
      "source": [
        "### Tensors and NumPy\n",
        "\n",
        "Tensor Flow interacs beautifully with array"
      ],
      "metadata": {
        "id": "Xva_yTrC0boQ"
      }
    },
    {
      "cell_type": "code",
      "source": [
        "J = tf.constant(np.array([3.,7.,10.]))\n",
        "J"
      ],
      "metadata": {
        "id": "2NtqL8BkvqSC",
        "colab": {
          "base_uri": "https://localhost:8080/"
        },
        "outputId": "07528623-2be5-4cf7-8f89-7a5ba2b6ea41"
      },
      "execution_count": null,
      "outputs": [
        {
          "output_type": "execute_result",
          "data": {
            "text/plain": [
              "<tf.Tensor: shape=(3,), dtype=float64, numpy=array([ 3.,  7., 10.])>"
            ]
          },
          "metadata": {},
          "execution_count": 61
        }
      ]
    },
    {
      "cell_type": "code",
      "source": [
        "# Convert to numpy array\n",
        "np.array(J)"
      ],
      "metadata": {
        "id": "G0vkFjMXv_b1",
        "colab": {
          "base_uri": "https://localhost:8080/"
        },
        "outputId": "d674c835-227e-4b05-fe78-f07d5d7f96d7"
      },
      "execution_count": null,
      "outputs": [
        {
          "output_type": "execute_result",
          "data": {
            "text/plain": [
              "array([ 3.,  7., 10.])"
            ]
          },
          "metadata": {},
          "execution_count": 62
        }
      ]
    },
    {
      "cell_type": "code",
      "source": [
        "#Convert tensor J to numpy array\n",
        "J.numpy()"
      ],
      "metadata": {
        "colab": {
          "base_uri": "https://localhost:8080/"
        },
        "id": "MDfxuis603eK",
        "outputId": "52f21e97-e194-4072-869f-d70c975c8d70"
      },
      "execution_count": null,
      "outputs": [
        {
          "output_type": "execute_result",
          "data": {
            "text/plain": [
              "array([ 3.,  7., 10.])"
            ]
          },
          "metadata": {},
          "execution_count": 63
        }
      ]
    },
    {
      "cell_type": "code",
      "source": [
        "# The default type of each is slightly different\n",
        "numpy_J = tf.constant(np.array([3.,7.,10.]))\n",
        "tensor_J = tf.constant([3.,7.,10.])\n",
        "\n",
        "# Check dtype\n",
        "numpy_J.dtype, tensor_J.dtype"
      ],
      "metadata": {
        "colab": {
          "base_uri": "https://localhost:8080/"
        },
        "id": "J13KtJjc1BQP",
        "outputId": "af94c4f9-c997-4012-a491-37065a9c2674"
      },
      "execution_count": null,
      "outputs": [
        {
          "output_type": "execute_result",
          "data": {
            "text/plain": [
              "(tf.float64, tf.float32)"
            ]
          },
          "metadata": {},
          "execution_count": 64
        }
      ]
    },
    {
      "cell_type": "markdown",
      "source": [
        "### Finding access to GPU"
      ],
      "metadata": {
        "id": "OMIg6DAk2Z1V"
      }
    },
    {
      "cell_type": "code",
      "source": [
        "tf.config.list_physical_devices()"
      ],
      "metadata": {
        "colab": {
          "base_uri": "https://localhost:8080/"
        },
        "id": "cJG53ISA2dP3",
        "outputId": "89b4dc5c-7e94-43a6-a1a9-d70542aaae32"
      },
      "execution_count": null,
      "outputs": [
        {
          "output_type": "execute_result",
          "data": {
            "text/plain": [
              "[PhysicalDevice(name='/physical_device:CPU:0', device_type='CPU'),\n",
              " PhysicalDevice(name='/physical_device:GPU:0', device_type='GPU')]"
            ]
          },
          "metadata": {},
          "execution_count": 65
        }
      ]
    },
    {
      "cell_type": "code",
      "source": [
        "!nvidia-smi"
      ],
      "metadata": {
        "colab": {
          "base_uri": "https://localhost:8080/"
        },
        "id": "ppW6KvWI2wwl",
        "outputId": "8228db3e-4aae-47a3-c91f-c8d5115b90a6"
      },
      "execution_count": null,
      "outputs": [
        {
          "output_type": "stream",
          "name": "stdout",
          "text": [
            "Sun Nov  5 05:04:27 2023       \n",
            "+-----------------------------------------------------------------------------+\n",
            "| NVIDIA-SMI 525.105.17   Driver Version: 525.105.17   CUDA Version: 12.0     |\n",
            "|-------------------------------+----------------------+----------------------+\n",
            "| GPU  Name        Persistence-M| Bus-Id        Disp.A | Volatile Uncorr. ECC |\n",
            "| Fan  Temp  Perf  Pwr:Usage/Cap|         Memory-Usage | GPU-Util  Compute M. |\n",
            "|                               |                      |               MIG M. |\n",
            "|===============================+======================+======================|\n",
            "|   0  Tesla T4            Off  | 00000000:00:04.0 Off |                    0 |\n",
            "| N/A   67C    P0    31W /  70W |    361MiB / 15360MiB |      0%      Default |\n",
            "|                               |                      |                  N/A |\n",
            "+-------------------------------+----------------------+----------------------+\n",
            "                                                                               \n",
            "+-----------------------------------------------------------------------------+\n",
            "| Processes:                                                                  |\n",
            "|  GPU   GI   CI        PID   Type   Process name                  GPU Memory |\n",
            "|        ID   ID                                                   Usage      |\n",
            "|=============================================================================|\n",
            "+-----------------------------------------------------------------------------+\n"
          ]
        }
      ]
    },
    {
      "cell_type": "markdown",
      "source": [
        "### If you have access to CUDA-enabled GPU, TensorFlow will use it whenever possible"
      ],
      "metadata": {
        "id": "aWJ4jWIe3x7h"
      }
    }
  ]
}